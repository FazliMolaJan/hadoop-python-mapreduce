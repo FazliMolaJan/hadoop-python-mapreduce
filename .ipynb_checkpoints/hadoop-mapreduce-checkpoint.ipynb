{
 "cells": [
  {
   "cell_type": "code",
   "execution_count": 3,
   "metadata": {},
   "outputs": [
    {
     "name": "stdout",
     "output_type": "stream",
     "text": [
      "--2018-05-30 12:37:12--  https://raw.githubusercontent.com/datasets/exchange-rates/master/data/daily.csv\n",
      "Resolving raw.githubusercontent.com (raw.githubusercontent.com)... 151.101.52.133\n",
      "Connecting to raw.githubusercontent.com (raw.githubusercontent.com)|151.101.52.133|:443... connected.\n",
      "HTTP request sent, awaiting response... 200 OK\n",
      "Length: 6108161 (5.8M) [text/plain]\n",
      "Saving to: ‘daily.csv.2’\n",
      "\n",
      "daily.csv.2         100%[=====================>]   5.83M  4.81MB/s   in 1.2s   \n",
      "\n",
      "2018-05-30 12:37:14 (4.81 MB/s) - ‘daily.csv.2’ saved [6108161/6108161]\n",
      "\n"
     ]
    }
   ],
   "source": [
    "# Get our data\n",
    "! wget https://raw.githubusercontent.com/datasets/exchange-rates/master/data/daily.csv"
   ]
  },
  {
   "cell_type": "code",
   "execution_count": 21,
   "metadata": {},
   "outputs": [
    {
     "name": "stdout",
     "output_type": "stream",
     "text": [
      "Date,Country,Value\r\n",
      "1971-01-04,Australia,0.8987\r\n",
      "1971-01-05,Australia,0.8983\r\n",
      "1971-01-06,Australia,0.8977\r\n",
      "1971-01-07,Australia,0.8978\r\n"
     ]
    }
   ],
   "source": [
    "! head -n 5 daily.csv\n",
    "! touch test.csv | head -n 1000 daily.csv > test.csv"
   ]
  },
  {
   "cell_type": "code",
   "execution_count": 22,
   "metadata": {},
   "outputs": [
    {
     "name": "stdout",
     "output_type": "stream",
     "text": [
      "Overwriting mapper.py\n"
     ]
    }
   ],
   "source": [
    "%%writefile mapper.py\n",
    "\n",
    "# The Mapper\n",
    "import sys\n",
    "import csv\n",
    "\n",
    "# Set local variables\n",
    "iteration = 0\n",
    "\n",
    "currentCountry = None\n",
    "previousCountry = None\n",
    "currentFx = None\n",
    "previousFx = None\n",
    "percentChange = None\n",
    "currentKey = None\n",
    "\n",
    "fxMap = []\n",
    "\n",
    "# print \"Starting mapper.py\"\n",
    "\n",
    "# Read the csv\n",
    "\n",
    "try:\n",
    "    filename = sys.argv[1]\n",
    "    f = open(filename, 'r')\n",
    "    csv = csv.reader(f)\n",
    "    next(csv, None) # Skip header\n",
    "    data = list(csv)\n",
    "#    print \"Successfully read the .csv\"\n",
    "\n",
    "except Exception as e:\n",
    "    template = \"An exception of type {0} occurred. Arguments:\\n{1!r}\"\n",
    "    message = template.format(type(e).__name__, e.args)\n",
    "    print message\n",
    "    sys.exit(0)\n",
    "\n",
    "for line in data:\n",
    "    try:\n",
    "        # Get data from line\n",
    "        currentCountry = line[1].rstrip()\n",
    "        if len(line[2]) == 0:\n",
    "            continue\n",
    "        currentFx = float(line[2])\n",
    "            \n",
    "        if currentCountry != previousCountry:\n",
    "            previousCountry = currentCountry\n",
    "            previousFx = currentFx\n",
    "            previousLine = line\n",
    "            continue\n",
    "\n",
    "        # If country same as previous, add to map\n",
    "        elif currentCountry == previousCountry:\n",
    "            percentChange = ((currentFx - previousFx) / previousFx) * 100.00\n",
    "            percentChange = round(percentChange, 2)\n",
    "            percentChange = percentChange\n",
    "        \n",
    "            currentKey = \"%s: %6.2f%%\" % (currentCountry, percentChange)\n",
    "\n",
    "            # Set the array with tuple keys\n",
    "            fxMap.append(tuple([currentKey, 1]))\n",
    "        \n",
    "        # Update Values\n",
    "        previousCountry = currentCountry\n",
    "        previousFx = currentFx\n",
    "        previousLine = line\n",
    "\n",
    "        # Uncomment if you want to see the output\n",
    "#         if iteration % 50000 == 0:\n",
    "#             print \"Current iteration is %d\" % iteration\n",
    "#         iteration += 1\n",
    "\n",
    "    # Handle unexpected errors\n",
    "    except Exception as e:\n",
    "        template = \"An exception of type {0} occurred. Arguments:\\n{1!r}\"\n",
    "        message = template.format(type(e).__name__, e.args)\n",
    "        print message\n",
    "        sys.exit(0)\n",
    "\n",
    "#\n",
    "# print \"mapper.py has completed with %d iterations\" % (iteration - 1)\n",
    "\n",
    "# Show the returned values\n",
    "for i in sorted(fxMap):\n",
    "    print \"%-20s - %d\" % (i[0], i[1])"
   ]
  },
  {
   "cell_type": "code",
   "execution_count": 23,
   "metadata": {},
   "outputs": [],
   "source": [
    "# Provide the ability to execute the file later\n",
    "! chmod +x mapper.py "
   ]
  },
  {
   "cell_type": "code",
   "execution_count": 26,
   "metadata": {},
   "outputs": [
    {
     "name": "stdout",
     "output_type": "stream",
     "text": [
      "Overwriting reducer.py\n"
     ]
    }
   ],
   "source": [
    "%%writefile reducer.py\n",
    "# The reducer\n",
    "\n",
    "from operator import itemgetter\n",
    "import sys\n",
    "\n",
    "current_key = None\n",
    "current_count = 0\n",
    "key = None\n",
    "\n",
    "# Import the mapped FX data data\n",
    "for line in sys.stdin:\n",
    "\n",
    "    # parse the input we got from mapper.py\n",
    "    key, count = line.split('- ')\n",
    "\n",
    "    try:\n",
    "        count = int(count)\n",
    "    except ValueError:\n",
    "        continue\n",
    "\n",
    "    if current_key == key:\n",
    "        current_count += count\n",
    "    else:\n",
    "        if current_key:\n",
    "            print '%s\\t%s' % (current_key, current_count)\n",
    "        current_count = count\n",
    "        current_key = key\n",
    "\n",
    "# Print the results\n",
    "if current_key == key:\n",
    "    print '%s\\t%s' % (current_key, current_count)"
   ]
  },
  {
   "cell_type": "code",
   "execution_count": 27,
   "metadata": {},
   "outputs": [],
   "source": [
    "# Provide the ability to execute the file later\n",
    "! chmod +x reducer.py "
   ]
  },
  {
   "cell_type": "code",
   "execution_count": null,
   "metadata": {},
   "outputs": [],
   "source": []
  }
 ],
 "metadata": {
  "kernelspec": {
   "display_name": "Python 2",
   "language": "python",
   "name": "python2"
  },
  "language_info": {
   "codemirror_mode": {
    "name": "ipython",
    "version": 2
   },
   "file_extension": ".py",
   "mimetype": "text/x-python",
   "name": "python",
   "nbconvert_exporter": "python",
   "pygments_lexer": "ipython2",
   "version": "2.7.12"
  },
  "varInspector": {
   "cols": {
    "lenName": 16,
    "lenType": 16,
    "lenVar": 40
   },
   "kernels_config": {
    "python": {
     "delete_cmd_postfix": "",
     "delete_cmd_prefix": "del ",
     "library": "var_list.py",
     "varRefreshCmd": "print(var_dic_list())"
    },
    "r": {
     "delete_cmd_postfix": ") ",
     "delete_cmd_prefix": "rm(",
     "library": "var_list.r",
     "varRefreshCmd": "cat(var_dic_list()) "
    }
   },
   "types_to_exclude": [
    "module",
    "function",
    "builtin_function_or_method",
    "instance",
    "_Feature"
   ],
   "window_display": false
  }
 },
 "nbformat": 4,
 "nbformat_minor": 2
}
